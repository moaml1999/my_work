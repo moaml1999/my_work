{
  "nbformat": 4,
  "nbformat_minor": 0,
  "metadata": {
    "language_info": {
      "codemirror_mode": {
        "name": "ipython",
        "version": 3
      },
      "file_extension": ".py",
      "mimetype": "text/x-python",
      "name": "python",
      "nbconvert_exporter": "python",
      "pygments_lexer": "ipython3",
      "version": "3.8.5-final"
    },
    "orig_nbformat": 2,
    "kernelspec": {
      "name": "python3",
      "display_name": "Python 3",
      "language": "python"
    },
    "colab": {
      "name": "pro2.ipynb",
      "provenance": [],
      "collapsed_sections": [
        "bHpQ2_KWfI8y"
      ]
    }
  },
  "cells": [
    {
      "cell_type": "markdown",
      "metadata": {
        "id": "VqztGKDsmNLR"
      },
      "source": [
        "#libraries we use"
      ]
    },
    {
      "cell_type": "code",
      "metadata": {
        "id": "avlySIeNeQFv"
      },
      "source": [
        "from sklearn import model_selection ,linear_model ,preprocessing\n",
        "import sklearn as sk\n",
        "import pandas as pd"
      ],
      "execution_count": 27,
      "outputs": []
    },
    {
      "cell_type": "markdown",
      "metadata": {
        "id": "bHpQ2_KWfI8y"
      },
      "source": [
        "###Loading data & Fill nan value & preprocessing"
      ]
    },
    {
      "cell_type": "code",
      "metadata": {
        "id": "INo8ylceeQF8"
      },
      "source": [
        "#read csv file for breast cancer\n",
        "data=pd.read_csv('breast_cancer.csv')\n",
        "# copy diagnosis for only one column name target \n",
        "target=data.diagnosis\n",
        "#delete column diagnosis and column id\n",
        "data.drop(['diagnosis','id'],axis=1,inplace=True)"
      ],
      "execution_count": 28,
      "outputs": []
    },
    {
      "cell_type": "code",
      "metadata": {
        "id": "5Pms-O0XeQGA"
      },
      "source": [
        "# for loop for change every nane value with mean of column \n",
        "for i in data.columns:\n",
        "    data[i].fillna(data[i].mean(),inplace=True)"
      ],
      "execution_count": 29,
      "outputs": []
    },
    {
      "cell_type": "code",
      "metadata": {
        "id": "6ZjV0qEeeQGB"
      },
      "source": [
        "diag=target.unique()\n",
        "diag_dect={}\n",
        "for index,diag_1 in enumerate(diag):\n",
        "    diag_dect[diag_1]=index\n",
        "target=target.replace(diag_dect)"
      ],
      "execution_count": 30,
      "outputs": []
    },
    {
      "cell_type": "code",
      "metadata": {
        "id": "dMvzdjz2eQGD"
      },
      "source": [
        "data=preprocessing.StandardScaler().fit_transform(data)"
      ],
      "execution_count": 31,
      "outputs": []
    },
    {
      "cell_type": "markdown",
      "metadata": {
        "id": "M5z31JB6gs9q"
      },
      "source": [
        "##Split & Trainning the model"
      ]
    },
    {
      "cell_type": "code",
      "metadata": {
        "id": "y7S1UWYTeQGE"
      },
      "source": [
        "#split data and target for train and test \n",
        "x_train,x_test,y_train,y_test=model_selection.train_test_split(data,target,test_size=0.2,random_state=77,stratify=target)"
      ],
      "execution_count": 32,
      "outputs": []
    },
    {
      "cell_type": "code",
      "metadata": {
        "colab": {
          "base_uri": "https://localhost:8080/"
        },
        "id": "eUMwxRLfeQGG",
        "outputId": "12567c8c-5313-4056-ec85-07ad7b5ac2f1"
      },
      "source": [
        "# Training the model\n",
        "model_1=linear_model.LogisticRegression(penalty='l2',C=0.14,random_state=77)\n",
        "model_1.fit(x_train,y_train)"
      ],
      "execution_count": 33,
      "outputs": [
        {
          "output_type": "execute_result",
          "data": {
            "text/plain": [
              "LogisticRegression(C=0.14, class_weight=None, dual=False, fit_intercept=True,\n",
              "                   intercept_scaling=1, l1_ratio=None, max_iter=100,\n",
              "                   multi_class='auto', n_jobs=None, penalty='l2',\n",
              "                   random_state=77, solver='lbfgs', tol=0.0001, verbose=0,\n",
              "                   warm_start=False)"
            ]
          },
          "metadata": {
            "tags": []
          },
          "execution_count": 33
        }
      ]
    },
    {
      "cell_type": "markdown",
      "metadata": {
        "id": "OUSiWZoJlNy_"
      },
      "source": [
        "## Predict the accuracy the model \r\n",
        "\r\n",
        "\r\n"
      ]
    },
    {
      "cell_type": "code",
      "metadata": {
        "colab": {
          "base_uri": "https://localhost:8080/"
        },
        "id": "fnHLwZ1beQGI",
        "outputId": "63349a22-ca53-47aa-8b79-33f6cc9ed2af"
      },
      "source": [
        "y_pred=model_1.predict(x_test)\n",
        "acc_model_2=sk.metrics.accuracy_score(y_test,y_pred)\n",
        "acc_model_3=model_1.score(x_train,y_train)\n",
        "print('model accuracy score :', acc_model_2)\n",
        "print('Accuracy training model :' , acc_model_3)"
      ],
      "execution_count": 34,
      "outputs": [
        {
          "output_type": "stream",
          "text": [
            "model accuracy score : 1.0\n",
            "Accuracy training model : 0.9802197802197802\n"
          ],
          "name": "stdout"
        }
      ]
    }
  ]
}