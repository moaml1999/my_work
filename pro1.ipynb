{
 "metadata": {
  "language_info": {
   "codemirror_mode": {
    "name": "ipython",
    "version": 3
   },
   "file_extension": ".py",
   "mimetype": "text/x-python",
   "name": "python",
   "nbconvert_exporter": "python",
   "pygments_lexer": "ipython3",
   "version": "3.8.5-final"
  },
  "orig_nbformat": 2,
  "kernelspec": {
   "name": "python3",
   "display_name": "Python 3",
   "language": "python"
  }
 },
 "nbformat": 4,
 "nbformat_minor": 2,
 "cells": [
  {
   "cell_type": "code",
   "execution_count": 27,
   "metadata": {},
   "outputs": [],
   "source": [
    "import pandas as pd \n",
    "import numpy as np "
   ]
  },
  {
   "cell_type": "code",
   "execution_count": 28,
   "metadata": {},
   "outputs": [
    {
     "output_type": "execute_result",
     "data": {
      "text/plain": [
       "0     Douglas\n",
       "1      Thomas\n",
       "2       Maria\n",
       "3       Jerry\n",
       "4       Larry\n",
       "       ...   \n",
       "94      Harry\n",
       "95    Heather\n",
       "96    Cynthia\n",
       "97      Laura\n",
       "98       Tina\n",
       "Name: First Name, Length: 99, dtype: object"
      ]
     },
     "metadata": {},
     "execution_count": 28
    }
   ],
   "source": [
    "employees=pd.read_csv('employees.csv') # read csv file\n",
    "employees.pop('First Name') # drop column first name"
   ]
  },
  {
   "cell_type": "code",
   "execution_count": 29,
   "metadata": {},
   "outputs": [],
   "source": [
    "#Fill empty Salary values using the mean value \n",
    "employees['Salary'].fillna(employees['Salary'].mean(),inplace=True)\n",
    "#Fill empty Bonus values using the mean value \n",
    "employees['Bonus %'].fillna(employees['Bonus %'].mean(),inplace=True)"
   ]
  },
  {
   "cell_type": "code",
   "execution_count": 30,
   "metadata": {},
   "outputs": [],
   "source": [
    "gender_map={'Male':0,'Female':1} #mapping for gender \n",
    "for index,name in employees['Gender'].items():\n",
    "    employees['Gender'][index]=gender_map[name]\n",
    "employees['Gender']"
   ]
  },
  {
   "cell_type": "code",
   "execution_count": 31,
   "metadata": {},
   "outputs": [],
   "source": [
    "team_repeat=employees['Team'].duplicated()\n",
    "p=0\n",
    "team_map={} #mapping for team \n",
    "for index,name in employees['Team'].items():\n",
    "    if team_repeat[index]==False: \n",
    "        team_map[name]=p\n",
    "        p=p+1 #counter mapping for gender\n",
    "    employees['Team'][index]=team_map[name] "
   ]
  },
  {
   "cell_type": "code",
   "execution_count": 32,
   "metadata": {},
   "outputs": [],
   "source": [
    "employees.to_csv('new_employees.csv',index=False)# save new DataFrame as file csv "
   ]
  }
 ]
}