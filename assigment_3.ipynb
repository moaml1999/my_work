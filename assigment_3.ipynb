{
  "nbformat": 4,
  "nbformat_minor": 0,
  "metadata": {
    "language_info": {
      "codemirror_mode": {
        "name": "ipython",
        "version": 3
      },
      "file_extension": ".py",
      "mimetype": "text/x-python",
      "name": "python",
      "nbconvert_exporter": "python",
      "pygments_lexer": "ipython3",
      "version": "3.8.5-final"
    },
    "orig_nbformat": 2,
    "kernelspec": {
      "name": "python3",
      "display_name": "Python 3",
      "language": "python"
    },
    "colab": {
      "name": "assigment_3.ipynb",
      "provenance": [],
      "collapsed_sections": []
    }
  },
  "cells": [
    {
      "cell_type": "markdown",
      "metadata": {
        "id": "MrIpCFW89Vkk"
      },
      "source": [
        "#code"
      ]
    },
    {
      "cell_type": "markdown",
      "metadata": {
        "id": "U0BLJW_I6UoN"
      },
      "source": [
        "###The library that use in *model* "
      ]
    },
    {
      "cell_type": "code",
      "metadata": {
        "id": "Cy2cWF1Z6TVj"
      },
      "source": [
        "import numpy as np\n",
        "import sklearn as sk \n",
        "from sklearn import metrics , model_selection  , svm , datasets "
      ],
      "execution_count": 7,
      "outputs": []
    },
    {
      "cell_type": "markdown",
      "metadata": {
        "id": "ot9qfu0S9a4J"
      },
      "source": [
        "###split dataset for x, y "
      ]
    },
    {
      "cell_type": "code",
      "metadata": {
        "id": "PvKTVCNY6TWA"
      },
      "source": [
        "x,y =datasets.load_wine(return_X_y=True)"
      ],
      "execution_count": 8,
      "outputs": []
    },
    {
      "cell_type": "markdown",
      "metadata": {
        "id": "f3y61Ku09tdT"
      },
      "source": [
        "### Split data for 10 samples Stratify , Shuffle and train model Stratify "
      ]
    },
    {
      "cell_type": "code",
      "metadata": {
        "colab": {
          "base_uri": "https://localhost:8080/"
        },
        "id": "jxRHEHTv6TWC",
        "outputId": "336d917b-a0ef-4eb7-e263-ba395fbea1d2"
      },
      "source": [
        "Str_shf_KFold=model_selection.StratifiedShuffleSplit(n_splits=10,random_state=42)\n",
        "accuracy=[]\n",
        "for train_index , test_index in Str_shf_KFold.split(x,y):\n",
        "    x_train = x[train_index]\n",
        "    y_train = y[train_index]\n",
        "    x_test = x[test_index]\n",
        "    y_test = y[test_index]\n",
        "    svc_model=svm.SVC(kernel='linear',random_state=42).fit(x_train,y_train)\n",
        "    y_pred=svc_model.predict(x_test)\n",
        "    mas=metrics.accuracy_score(y_test,y_pred)\n",
        "    accuracy.append(mas)\n",
        "print('The accuracy score for each fold:', accuracy)\n",
        "print('the mean of fold scores :' , np.mean(accuracy))\n"
      ],
      "execution_count": 9,
      "outputs": [
        {
          "output_type": "stream",
          "text": [
            "The accuracy score for each fold: [0.9444444444444444, 0.8888888888888888, 0.9444444444444444, 0.9444444444444444, 0.9444444444444444, 1.0, 0.9444444444444444, 1.0, 0.9444444444444444, 0.9444444444444444]\n",
            "the mean of fold scores : 0.95\n"
          ],
          "name": "stdout"
        }
      ]
    },
    {
      "cell_type": "code",
      "metadata": {
        "id": "dRG-QkHM6TWH"
      },
      "source": [
        ""
      ],
      "execution_count": 9,
      "outputs": []
    }
  ]
}