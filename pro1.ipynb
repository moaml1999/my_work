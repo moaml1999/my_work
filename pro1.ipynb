{
 "metadata": {
  "language_info": {
   "codemirror_mode": {
    "name": "ipython",
    "version": 3
   },
   "file_extension": ".py",
   "mimetype": "text/x-python",
   "name": "python",
   "nbconvert_exporter": "python",
   "pygments_lexer": "ipython3",
   "version": "3.8.5-final"
  },
  "orig_nbformat": 2,
  "kernelspec": {
   "name": "python3",
   "display_name": "Python 3",
   "language": "python"
  }
 },
 "nbformat": 4,
 "nbformat_minor": 2,
 "cells": [
  {
   "cell_type": "code",
   "execution_count": null,
   "metadata": {},
   "outputs": [],
   "source": [
    "import pandas as pd \n",
    "import numpy as np "
   ]
  },
  {
   "cell_type": "code",
   "execution_count": null,
   "metadata": {},
   "outputs": [],
   "source": [
    "employees=pd.read_csv('employees.csv') # read csv file\n",
    "employees.pop('First Name') # drop column first name"
   ]
  },
  {
   "cell_type": "code",
   "execution_count": null,
   "metadata": {},
   "outputs": [],
   "source": [
    "#Fill empty Salary values using the mean value \n",
    "employees['Salary'].fillna(employees['Salary'].mean(),inplace=True)\n",
    "#Fill empty Bonus values using the mean value \n",
    "employees['Bonus %'].fillna(employees['Bonus %'].mean(),inplace=True)"
   ]
  },
  {
   "cell_type": "code",
   "execution_count": null,
   "metadata": {},
   "outputs": [],
   "source": [
    "gender_repeat=employees['Gender'].duplicated()\n",
    "p=0 \n",
    "gender_map={} #mapping for gender \n",
    "for index,name in employees['Gender'].items():\n",
    "    if gender_repeat[index]==False:\n",
    "        gender_map[name]=p\n",
    "        p=p+1 #counter mapping for gender\n",
    "    employees['Gender'][index]=gender_map[name]"
   ]
  },
  {
   "cell_type": "code",
   "execution_count": null,
   "metadata": {},
   "outputs": [],
   "source": [
    "team_repeat=employees['Team'].duplicated()\n",
    "p=0\n",
    "team_map={} #mapping for team \n",
    "for index,name in employees['Team'].items():\n",
    "    if team_repeat[index]==False: \n",
    "        team_map[name]=p\n",
    "        p=p+1 ##counter mapping for gender\n",
    "    employees['Team'][index]=team_map[name]"
   ]
  },
  {
   "cell_type": "code",
   "execution_count": null,
   "metadata": {},
   "outputs": [],
   "source": [
    "employees.to_csv('new_employees.csv',index=False)# save new DataFrame as file csv "
   ]
  }
 ]
}