{
 "metadata": {
  "language_info": {
   "codemirror_mode": {
    "name": "ipython",
    "version": 3
   },
   "file_extension": ".py",
   "mimetype": "text/x-python",
   "name": "python",
   "nbconvert_exporter": "python",
   "pygments_lexer": "ipython3",
   "version": "3.8.5-final"
  },
  "orig_nbformat": 2,
  "kernelspec": {
   "name": "python3",
   "display_name": "Python 3",
   "language": "python"
  }
 },
 "nbformat": 4,
 "nbformat_minor": 2,
 "cells": [
  {
   "cell_type": "code",
   "execution_count": 2,
   "metadata": {},
   "outputs": [],
   "source": [
    "import pandas as pd \n",
    "import numpy as np \n",
    "import sklearn as sk \n",
    "from sklearn import metrics , model_selection , linear_model , svm , datasets "
   ]
  },
  {
   "cell_type": "code",
   "execution_count": 3,
   "metadata": {},
   "outputs": [],
   "source": [
    "x,y =datasets.load_wine(return_X_y=True)"
   ]
  },
  {
   "cell_type": "code",
   "execution_count": 4,
   "metadata": {},
   "outputs": [
    {
     "output_type": "stream",
     "name": "stdout",
     "text": [
      "[0.9444444444444444, 0.8888888888888888, 0.9444444444444444, 0.9444444444444444, 0.9444444444444444, 1.0, 0.9444444444444444, 1.0, 0.9444444444444444, 0.9444444444444444]\n"
     ]
    },
    {
     "output_type": "execute_result",
     "data": {
      "text/plain": [
       "0.95"
      ]
     },
     "metadata": {},
     "execution_count": 4
    }
   ],
   "source": [
    "shr_shf_kfold=model_selection.StratifiedShuffleSplit(n_splits=10,random_state=42)\n",
    "accuracy=[]\n",
    "for train_index , test_index in str_shf_kfold.split(x,y):\n",
    "    x_train = x[train_index]\n",
    "    y_train = y[train_index]\n",
    "    x_test = x[test_index]\n",
    "    y_test = y[test_index]\n",
    "    svc_model=svm.SVC(kernel='linear',random_state=42).fit(x_train,y_train)\n",
    "    y_pred=svc_model.predict(x_test)\n",
    "    mas=metrics.accuracy_score(y_test,y_pred)\n",
    "    accuracy.append(mas)\n",
    "print(accuracy)\n",
    "np.mean(accuracy)\n",
    "`"
   ]
  },
  {
   "cell_type": "code",
   "execution_count": null,
   "metadata": {},
   "outputs": [],
   "source": []
  }
 ]
}